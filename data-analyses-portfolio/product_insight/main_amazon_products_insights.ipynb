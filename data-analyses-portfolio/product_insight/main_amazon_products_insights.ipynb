{
 "cells": [
  {
   "cell_type": "code",
   "execution_count": null,
   "metadata": {},
   "outputs": [],
   "source": [
    "#Importing libraries\n",
    "\n",
    "import pandas as pd\n",
    "import numpy as np\n",
    "import matplotlib.pyplot as plt\n",
    "import seaborn as sns"
   ]
  },
  {
   "cell_type": "code",
   "execution_count": null,
   "metadata": {},
   "outputs": [],
   "source": [
    "#Importing data into dataframe\n",
    "\n",
    "df1 = pd.read_csv(r\"C:\\Users\\mille\\Downloads\\Code\\Data Analysis Projects\\amazon_products.csv\")\n",
    "df1.head()"
   ]
  },
  {
   "cell_type": "code",
   "execution_count": null,
   "metadata": {},
   "outputs": [],
   "source": [
    "df2 = pd.read_csv(r\"C:\\Users\\mille\\Downloads\\Code\\Data Analysis Projects\\amazon_categories.csv\")\n",
    "df2.head()"
   ]
  },
  {
   "cell_type": "code",
   "execution_count": null,
   "metadata": {},
   "outputs": [],
   "source": [
    "#Merging both files based on category id\n",
    "\n",
    "df3 = df1.merge(df2, left_on='category_id', right_on='id')\n",
    "df3"
   ]
  },
  {
   "cell_type": "code",
   "execution_count": null,
   "metadata": {},
   "outputs": [],
   "source": [
    "#Removing extra column\n",
    "\n",
    "df3 = df3.drop(columns='id')\n",
    "df3"
   ]
  },
  {
   "cell_type": "code",
   "execution_count": null,
   "metadata": {},
   "outputs": [],
   "source": [
    "#Checking for any NaN values\n",
    "\n",
    "df3[df3.isna().any(axis=1)]"
   ]
  },
  {
   "cell_type": "code",
   "execution_count": null,
   "metadata": {},
   "outputs": [],
   "source": [
    "#Went to productURL page to get title and manually add title\n",
    "title = \"Carlisle FoodService Products 3646875 Flo-Thru Plastic Auto Wash Brush with Flagged Nylex Bristles, 10\\\" Length, Green\"\n",
    "\n",
    "df3.loc[df3.isna().any(axis=1), 'title'] = title"
   ]
  },
  {
   "cell_type": "code",
   "execution_count": null,
   "metadata": {},
   "outputs": [],
   "source": [
    "#Checking if title was updated correctly\n",
    "\n",
    "df3.loc[1283445]"
   ]
  },
  {
   "cell_type": "code",
   "execution_count": null,
   "metadata": {},
   "outputs": [],
   "source": [
    "#No more NaN values in data\n",
    "\n",
    "df3.isna().sum()"
   ]
  },
  {
   "cell_type": "code",
   "execution_count": null,
   "metadata": {},
   "outputs": [],
   "source": [
    "#Changing var values to updated dataframe\n",
    "\n",
    "df, df1, df2 = df3, df3, df3"
   ]
  },
  {
   "cell_type": "code",
   "execution_count": null,
   "metadata": {},
   "outputs": [],
   "source": [
    "#Checking categories with the most items\n",
    "df['category_name'].value_counts()"
   ]
  },
  {
   "cell_type": "code",
   "execution_count": null,
   "metadata": {},
   "outputs": [],
   "source": [
    "#Creating bar chart for categories with most items\n",
    "\n",
    "sns.set_theme(rc={'figure.figsize':(30,10)})\n",
    "sns.countplot(y=df['category_name'], order=df['category_name'].value_counts().iloc[:10].index)\n",
    "plt.title(\"Top 10 Categories on Sale\")\n",
    "plt.ylabel(\"Category Name\")\n",
    "plt.xlabel(\"Number of Items\")\n",
    "plt.show()"
   ]
  },
  {
   "cell_type": "code",
   "execution_count": null,
   "metadata": {},
   "outputs": [],
   "source": [
    "#Creating new column of Revenue last month based on number of items bought in last month and price\n",
    "\n",
    "df['Revenue Last Month'] = df['price'] * df['boughtInLastMonth']\n",
    "df.head()"
   ]
  },
  {
   "cell_type": "code",
   "execution_count": null,
   "metadata": {},
   "outputs": [],
   "source": [
    "#Getting top 10 values for Revenue Last Month\n",
    "\n",
    "df.sort_values('Revenue Last Month', ascending=False).head(10)"
   ]
  },
  {
   "cell_type": "code",
   "execution_count": null,
   "metadata": {},
   "outputs": [],
   "source": [
    "#Creating bar chart for items with highest revenue in last month\n",
    "\n",
    "plt.figure(figsize=(30,10))\n",
    "plt.barh(y='title', width='Revenue Last Month', data=df.sort_values('Revenue Last Month', ascending=False).head(10).sort_values('Revenue Last Month'))\n",
    "for index, value in enumerate(df.sort_values('Revenue Last Month', ascending=False).head(10).sort_values('Revenue Last Month')['Revenue Last Month']):\n",
    "    plt.text(value, index, str(value))\n",
    "plt.title('Items with Highest Revenue in Last Month')\n",
    "plt.xlabel('Revenue in Last Month')\n",
    "plt.show"
   ]
  },
  {
   "cell_type": "code",
   "execution_count": null,
   "metadata": {},
   "outputs": [],
   "source": [
    "#Getting reviews of items with most revenue\n",
    "\n",
    "plt.scatter(x='Revenue Last Month', y='stars', data=df)"
   ]
  },
  {
   "cell_type": "code",
   "execution_count": null,
   "metadata": {},
   "outputs": [],
   "source": [
    "#Seeing correlation\n",
    "\n",
    "f, ax = plt.subplots(figsize = (20, 10))\n",
    "corr = df.corr(\"pearson\", numeric_only=True)\n",
    "sns.heatmap(corr, mask=np.zeros_like(corr, dtype=bool), cmap=sns.diverging_palette(220, 10, as_cmap=True),\n",
    "            square=True, ax = ax, annot=True)"
   ]
  },
  {
   "cell_type": "markdown",
   "metadata": {},
   "source": [
    "From the heatmap above, we can see that there is no high correlation above between variables. There is only very little correlation between an item being a best seller and having high revenue last month."
   ]
  },
  {
   "cell_type": "code",
   "execution_count": null,
   "metadata": {},
   "outputs": [],
   "source": [
    "df.head()"
   ]
  },
  {
   "cell_type": "code",
   "execution_count": null,
   "metadata": {},
   "outputs": [],
   "source": [
    "#Creating scatter chart for reviews to stars\n",
    "\n",
    "plt.scatter(x='reviews', y='stars', data=df)"
   ]
  },
  {
   "cell_type": "code",
   "execution_count": null,
   "metadata": {},
   "outputs": [],
   "source": [
    "#Checking how many items were in best sellers list\n",
    "\n",
    "df['isBestSeller'].value_counts()"
   ]
  },
  {
   "cell_type": "code",
   "execution_count": null,
   "metadata": {},
   "outputs": [],
   "source": [
    "#Getting all of the best sellers from data set\n",
    "\n",
    "df_best_sellers = df[df.isBestSeller]"
   ]
  },
  {
   "cell_type": "code",
   "execution_count": null,
   "metadata": {},
   "outputs": [],
   "source": [
    "df_best_sellers.head(5)"
   ]
  },
  {
   "cell_type": "code",
   "execution_count": null,
   "metadata": {},
   "outputs": [],
   "source": [
    "df_best_sellers.sort_values('Revenue Last Month', ascending=False).head(10)"
   ]
  },
  {
   "cell_type": "code",
   "execution_count": null,
   "metadata": {},
   "outputs": [],
   "source": [
    "df.sort_values('Revenue Last Month', ascending=False).head(10)"
   ]
  },
  {
   "cell_type": "markdown",
   "metadata": {},
   "source": [
    "By looking at the 2 tables above we can see that overall, 4 of the top 10 items that had the highest revenue last month, were categorized as best sellers."
   ]
  },
  {
   "cell_type": "code",
   "execution_count": null,
   "metadata": {},
   "outputs": [],
   "source": [
    "#Checking how many items are in each category for the best sellers\n",
    "\n",
    "df_best_sellers['category_name'].value_counts()"
   ]
  },
  {
   "cell_type": "markdown",
   "metadata": {},
   "source": [
    "As we can see from the table above, the most populate category from the best sellers list is the \"Sports & Fitness\" category. The overall most populated category was girls clothing."
   ]
  },
  {
   "cell_type": "code",
   "execution_count": null,
   "metadata": {},
   "outputs": [],
   "source": [
    "#Checking average stars for best selling items\n",
    "\n",
    "df_best_sellers.describe()"
   ]
  },
  {
   "cell_type": "code",
   "execution_count": null,
   "metadata": {},
   "outputs": [],
   "source": [
    "#Counting how many items were in the top 200 highest earning items\n",
    "\n",
    "df.sort_values('Revenue Last Month', ascending=False).head(200)['category_name'].value_counts()"
   ]
  },
  {
   "cell_type": "code",
   "execution_count": null,
   "metadata": {},
   "outputs": [],
   "source": [
    "#Getting the amount of items that had no reviews yet\n",
    "\n",
    "df_best_sellers[df_best_sellers['stars'] == 0].count()"
   ]
  },
  {
   "cell_type": "code",
   "execution_count": null,
   "metadata": {},
   "outputs": [],
   "source": [
    "#Creating bar chart for best selling items with highest revenue in last month\n",
    "\n",
    "plt.figure(figsize=(30,10))\n",
    "plt.barh(y='title', width='Revenue Last Month', data=df_best_sellers.sort_values('Revenue Last Month', ascending=False).head(10).sort_values('Revenue Last Month'))\n",
    "for index, value in enumerate(df_best_sellers.sort_values('Revenue Last Month', ascending=False).head(10).sort_values('Revenue Last Month')['Revenue Last Month']):\n",
    "    plt.text(value, index, str(value))\n",
    "plt.title('Best Selling Items with Highest Revenue in Last Month')\n",
    "plt.xlabel('Revenue in Last Month')\n",
    "plt.show"
   ]
  },
  {
   "cell_type": "code",
   "execution_count": null,
   "metadata": {},
   "outputs": [],
   "source": [
    "#Creating bar chart for seeing the top 10 categories on the best sellers list\n",
    "\n",
    "sns.set_theme(rc={'figure.figsize':(30,10)})\n",
    "sns.countplot(y=df_best_sellers['category_name'], order=df_best_sellers['category_name'].value_counts().iloc[:10].index)\n",
    "plt.title(\"Top 10 Categories in Best Sellers List\")\n",
    "plt.ylabel(\"Category Name\")\n",
    "plt.xlabel(\"Number of Items\")\n",
    "plt.show()"
   ]
  },
  {
   "cell_type": "code",
   "execution_count": null,
   "metadata": {},
   "outputs": [],
   "source": [
    "#Exporting cleaned data to csv for visualization in Power BI\n",
    "\n",
    "#df.to_csv(\"C:\\\\Users\\\\mille\\\\Downloads\\\\Code\\\\Data Analysis Projects\\\\amazon_products(cleaned).csv\")"
   ]
  },
  {
   "cell_type": "code",
   "execution_count": null,
   "metadata": {},
   "outputs": [],
   "source": []
  }
 ],
 "metadata": {
  "kernelspec": {
   "display_name": "Python 3",
   "language": "python",
   "name": "python3"
  },
  "language_info": {
   "codemirror_mode": {
    "name": "ipython",
    "version": 3
   },
   "file_extension": ".py",
   "mimetype": "text/x-python",
   "name": "python",
   "nbconvert_exporter": "python",
   "pygments_lexer": "ipython3",
   "version": "3.10.9"
  }
 },
 "nbformat": 4,
 "nbformat_minor": 2
}
